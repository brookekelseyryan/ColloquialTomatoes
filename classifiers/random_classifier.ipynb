{
 "cells": [
  {
   "cell_type": "code",
   "execution_count": 1,
   "id": "toxic-cooper",
   "metadata": {},
   "outputs": [],
   "source": [
    "import pandas as pd"
   ]
  },
  {
   "cell_type": "code",
   "execution_count": 3,
   "id": "liberal-trinity",
   "metadata": {},
   "outputs": [],
   "source": [
    "df_training = pd.read_csv('training_reviews.csv', names = ['Text', 'Label'], header = None)\n",
    "df_testing = pd.read_csv('testing_set.csv', names = ['Text', 'Label'], header = None)"
   ]
  },
  {
   "cell_type": "code",
   "execution_count": 4,
   "id": "still-saint",
   "metadata": {},
   "outputs": [
    {
     "data": {
      "text/html": [
       "<div>\n",
       "<style scoped>\n",
       "    .dataframe tbody tr th:only-of-type {\n",
       "        vertical-align: middle;\n",
       "    }\n",
       "\n",
       "    .dataframe tbody tr th {\n",
       "        vertical-align: top;\n",
       "    }\n",
       "\n",
       "    .dataframe thead th {\n",
       "        text-align: right;\n",
       "    }\n",
       "</style>\n",
       "<table border=\"1\" class=\"dataframe\">\n",
       "  <thead>\n",
       "    <tr style=\"text-align: right;\">\n",
       "      <th></th>\n",
       "      <th>Text</th>\n",
       "      <th>Label</th>\n",
       "    </tr>\n",
       "  </thead>\n",
       "  <tbody>\n",
       "    <tr>\n",
       "      <th>0</th>\n",
       "      <td>As a popular sport, surfing was liked by many ...</td>\n",
       "      <td>1</td>\n",
       "    </tr>\n",
       "    <tr>\n",
       "      <th>1</th>\n",
       "      <td>'The Rookie' was a wonderful movie about the s...</td>\n",
       "      <td>1</td>\n",
       "    </tr>\n",
       "    <tr>\n",
       "      <th>2</th>\n",
       "      <td>I just came back from a pre-release viewing of...</td>\n",
       "      <td>1</td>\n",
       "    </tr>\n",
       "    <tr>\n",
       "      <th>3</th>\n",
       "      <td>I had a personal interest in this movie. When ...</td>\n",
       "      <td>1</td>\n",
       "    </tr>\n",
       "    <tr>\n",
       "      <th>4</th>\n",
       "      <td>This movie has so many wonderful elements to i...</td>\n",
       "      <td>1</td>\n",
       "    </tr>\n",
       "  </tbody>\n",
       "</table>\n",
       "</div>"
      ],
      "text/plain": [
       "                                                Text  Label\n",
       "0  As a popular sport, surfing was liked by many ...      1\n",
       "1  'The Rookie' was a wonderful movie about the s...      1\n",
       "2  I just came back from a pre-release viewing of...      1\n",
       "3  I had a personal interest in this movie. When ...      1\n",
       "4  This movie has so many wonderful elements to i...      1"
      ]
     },
     "execution_count": 4,
     "metadata": {},
     "output_type": "execute_result"
    }
   ],
   "source": [
    "df_training.head()"
   ]
  },
  {
   "cell_type": "code",
   "execution_count": 5,
   "id": "express-cardiff",
   "metadata": {},
   "outputs": [
    {
     "data": {
      "text/html": [
       "<div>\n",
       "<style scoped>\n",
       "    .dataframe tbody tr th:only-of-type {\n",
       "        vertical-align: middle;\n",
       "    }\n",
       "\n",
       "    .dataframe tbody tr th {\n",
       "        vertical-align: top;\n",
       "    }\n",
       "\n",
       "    .dataframe thead th {\n",
       "        text-align: right;\n",
       "    }\n",
       "</style>\n",
       "<table border=\"1\" class=\"dataframe\">\n",
       "  <thead>\n",
       "    <tr style=\"text-align: right;\">\n",
       "      <th></th>\n",
       "      <th>Text</th>\n",
       "      <th>Label</th>\n",
       "    </tr>\n",
       "  </thead>\n",
       "  <tbody>\n",
       "    <tr>\n",
       "      <th>0</th>\n",
       "      <td>\"Classes tous risques\" is one of the best \"gan...</td>\n",
       "      <td>1</td>\n",
       "    </tr>\n",
       "    <tr>\n",
       "      <th>1</th>\n",
       "      <td>Spunky journalist Holly Hunter produces invest...</td>\n",
       "      <td>1</td>\n",
       "    </tr>\n",
       "    <tr>\n",
       "      <th>2</th>\n",
       "      <td>I tend to get furious when hearing about Lucio...</td>\n",
       "      <td>1</td>\n",
       "    </tr>\n",
       "    <tr>\n",
       "      <th>3</th>\n",
       "      <td>\"The Planet\" is an astounding piece of film ma...</td>\n",
       "      <td>1</td>\n",
       "    </tr>\n",
       "    <tr>\n",
       "      <th>4</th>\n",
       "      <td>I recall so many things about seeing this movi...</td>\n",
       "      <td>1</td>\n",
       "    </tr>\n",
       "  </tbody>\n",
       "</table>\n",
       "</div>"
      ],
      "text/plain": [
       "                                                Text  Label\n",
       "0  \"Classes tous risques\" is one of the best \"gan...      1\n",
       "1  Spunky journalist Holly Hunter produces invest...      1\n",
       "2  I tend to get furious when hearing about Lucio...      1\n",
       "3  \"The Planet\" is an astounding piece of film ma...      1\n",
       "4  I recall so many things about seeing this movi...      1"
      ]
     },
     "execution_count": 5,
     "metadata": {},
     "output_type": "execute_result"
    }
   ],
   "source": [
    "df_testing.head()"
   ]
  },
  {
   "cell_type": "code",
   "execution_count": 9,
   "id": "played-royal",
   "metadata": {},
   "outputs": [
    {
     "name": "stderr",
     "output_type": "stream",
     "text": [
      "/home/bagheera/.local/lib/python3.6/site-packages/ipykernel_launcher.py:42: SettingWithCopyWarning: \n",
      "A value is trying to be set on a copy of a slice from a DataFrame\n",
      "\n",
      "See the caveats in the documentation: https://pandas.pydata.org/pandas-docs/stable/user_guide/indexing.html#returning-a-view-versus-a-copy\n"
     ]
    }
   ],
   "source": [
    "import re\n",
    "import nltk\n",
    "\n",
    "def preprocessor(text):\n",
    "    text = re.sub('<[^>]*>', '', text)\n",
    "    emoticons = re.findall('(?::|;|=)(?:-)?(?:\\)|\\(|D|P)',\n",
    "                           text)\n",
    "    text = (re.sub('[\\W]+', ' ', text.lower()) +\n",
    "            ' '.join(emoticons).replace('-', ''))\n",
    "    return text\n",
    "\n",
    "def remove_special_characters(text, remove_digits=True):\n",
    "    pattern=r'[^a-zA-z0-9\\s]'\n",
    "    text=re.sub(pattern,'',text)\n",
    "    return text\n",
    "\n",
    "def simple_stemmer(text):\n",
    "    ps = nltk.porter.PorterStemmer()\n",
    "    text= ' '.join([ps.stem(word) for word in text.split()])\n",
    "    return text\n",
    "\n",
    "\n",
    "def clean_up_text(text, flag = 0):\n",
    "    text_1 = preprocessor(text)\n",
    "    text_2 = remove_special_characters(text_1)\n",
    "    \n",
    "    if flag == 1:\n",
    "        text_2 = simple_stemmer(text_2)\n",
    "        \n",
    "    return text_2\n",
    "\n",
    "# rev = df1.iloc[0]['Text']\n",
    "# print(clean_up_text(rev)) ## call with no stemming\n",
    "# print()\n",
    "# print(clean_up_text(rev, 1)) ## call like this when stemming\n",
    "\n",
    "\n",
    "#set flag = 1, if you want to stem\n",
    "def process_data(data, flag = 0):\n",
    "\n",
    "    for i in range(len(data)):\n",
    "        data['Text'][i] = clean_up_text(data['Text'][i], flag)\n",
    "        \n",
    "    return data\n",
    "\n",
    "\n",
    "\n",
    "df_training = process_data(df_training)\n",
    "df_testing = process_data(df_testing)\n",
    "df_training_stemmed = process_data(df_training, flag = 1)\n",
    "df_testing_stemmed = process_data(df_testing, flag = 1)"
   ]
  },
  {
   "cell_type": "code",
   "execution_count": 12,
   "id": "personalized-aquarium",
   "metadata": {},
   "outputs": [
    {
     "name": "stdout",
     "output_type": "stream",
     "text": [
      "0.50456\n"
     ]
    }
   ],
   "source": [
    "import random\n",
    "\n",
    "from sklearn.ensemble import RandomForestRegressor\n",
    "from sklearn.metrics import classification_report, confusion_matrix, accuracy_score\n",
    "from sklearn.preprocessing import StandardScaler\n",
    "from pandas import DataFrame\n",
    "\n",
    "def random_predictor(X):\n",
    "    Y = []\n",
    "    for i in range(len(X)):\n",
    "        Y.append(random.randint(1,2))\n",
    "    \n",
    "    return Y\n",
    "\n",
    "Y_pred = random_predictor(df_testing)\n",
    "\n",
    "Y_test = df_testing['Label']\n",
    "\n",
    "print(accuracy_score(Y_test, Y_pred))"
   ]
  }
 ],
 "metadata": {
  "kernelspec": {
   "display_name": "Python 3",
   "language": "python",
   "name": "python3"
  },
  "language_info": {
   "codemirror_mode": {
    "name": "ipython",
    "version": 3
   },
   "file_extension": ".py",
   "mimetype": "text/x-python",
   "name": "python",
   "nbconvert_exporter": "python",
   "pygments_lexer": "ipython3",
   "version": "3.6.9"
  }
 },
 "nbformat": 4,
 "nbformat_minor": 5
}
