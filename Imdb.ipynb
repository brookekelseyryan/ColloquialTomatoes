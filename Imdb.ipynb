{
 "cells": [
  {
   "cell_type": "code",
   "execution_count": 3,
   "metadata": {},
   "outputs": [],
   "source": [
    "import pandas as pd"
   ]
  },
  {
   "cell_type": "code",
   "execution_count": 4,
   "metadata": {},
   "outputs": [
    {
     "data": {
      "text/html": [
       "<div>\n",
       "<style scoped>\n",
       "    .dataframe tbody tr th:only-of-type {\n",
       "        vertical-align: middle;\n",
       "    }\n",
       "\n",
       "    .dataframe tbody tr th {\n",
       "        vertical-align: top;\n",
       "    }\n",
       "\n",
       "    .dataframe thead th {\n",
       "        text-align: right;\n",
       "    }\n",
       "</style>\n",
       "<table border=\"1\" class=\"dataframe\">\n",
       "  <thead>\n",
       "    <tr style=\"text-align: right;\">\n",
       "      <th></th>\n",
       "      <th>Text</th>\n",
       "      <th>Label</th>\n",
       "    </tr>\n",
       "  </thead>\n",
       "  <tbody>\n",
       "    <tr>\n",
       "      <th>0</th>\n",
       "      <td>I didn't expect much from this film, but oh br...</td>\n",
       "      <td>2</td>\n",
       "    </tr>\n",
       "    <tr>\n",
       "      <th>1</th>\n",
       "      <td>Unashamedly ambitious sci-fi from Kerry Conran...</td>\n",
       "      <td>2</td>\n",
       "    </tr>\n",
       "    <tr>\n",
       "      <th>2</th>\n",
       "      <td>This adaptation positively butchers a classic ...</td>\n",
       "      <td>2</td>\n",
       "    </tr>\n",
       "    <tr>\n",
       "      <th>3</th>\n",
       "      <td>I really did like this show, once upon a time....</td>\n",
       "      <td>2</td>\n",
       "    </tr>\n",
       "    <tr>\n",
       "      <th>4</th>\n",
       "      <td>This movie was horrible, simply put. It was so...</td>\n",
       "      <td>2</td>\n",
       "    </tr>\n",
       "  </tbody>\n",
       "</table>\n",
       "</div>"
      ],
      "text/plain": [
       "                                                Text  Label\n",
       "0  I didn't expect much from this film, but oh br...      2\n",
       "1  Unashamedly ambitious sci-fi from Kerry Conran...      2\n",
       "2  This adaptation positively butchers a classic ...      2\n",
       "3  I really did like this show, once upon a time....      2\n",
       "4  This movie was horrible, simply put. It was so...      2"
      ]
     },
     "execution_count": 4,
     "metadata": {},
     "output_type": "execute_result"
    }
   ],
   "source": [
    "df = pd.read_csv('imdb.csv',names=['Text','Label'],header=None)\n",
    "df.head()"
   ]
  },
  {
   "cell_type": "code",
   "execution_count": 8,
   "metadata": {},
   "outputs": [
    {
     "name": "stdout",
     "output_type": "stream",
     "text": [
      "25000\n"
     ]
    }
   ],
   "source": [
    "df1 = df[df.Label != 3]\n",
    "print(len(df1))"
   ]
  },
  {
   "cell_type": "code",
   "execution_count": 10,
   "metadata": {},
   "outputs": [
    {
     "name": "stdout",
     "output_type": "stream",
     "text": [
      "25000\n"
     ]
    }
   ],
   "source": [
    "df_test = pd.read_csv('testing_set.csv',names=['Text','Label'],header=None)\n",
    "df_test1 = df_test[df_test.Label != 3]\n",
    "print(len(df_test1))"
   ]
  },
  {
   "cell_type": "code",
   "execution_count": 11,
   "metadata": {},
   "outputs": [],
   "source": [
    "from sklearn.feature_extraction.text import CountVectorizer, TfidfVectorizer\n",
    "from sklearn.naive_bayes import BernoulliNB, MultinomialNB, GaussianNB\n",
    "from sklearn.metrics import confusion_matrix\n",
    "\n",
    "import numpy as np\n",
    "import itertools\n",
    "import matplotlib.pyplot as plt"
   ]
  },
  {
   "cell_type": "code",
   "execution_count": 12,
   "metadata": {},
   "outputs": [],
   "source": [
    "def preprocessing_data(data):\n",
    "    for i in range(len(data)):\n",
    "        data['Text'][i] = data['Text'][i].lower()\n",
    "        data['Text'][i] = data['Text'][i].replace('\\n',' ')\n",
    "        data['Text'][i] = ''.join(c for c in data['Text'][i] if c.isalpha() | (c == ' '))\n",
    "        #print(data['Lyrics'][i])\n",
    "    return data "
   ]
  },
  {
   "cell_type": "code",
   "execution_count": 13,
   "metadata": {},
   "outputs": [
    {
     "name": "stderr",
     "output_type": "stream",
     "text": [
      "<ipython-input-12-8b0f78658c8d>:3: SettingWithCopyWarning: \n",
      "A value is trying to be set on a copy of a slice from a DataFrame\n",
      "\n",
      "See the caveats in the documentation: https://pandas.pydata.org/pandas-docs/stable/user_guide/indexing.html#returning-a-view-versus-a-copy\n",
      "  data['Text'][i] = data['Text'][i].lower()\n",
      "<ipython-input-13-ec49294b0bc3>:1: SettingWithCopyWarning: \n",
      "A value is trying to be set on a copy of a slice from a DataFrame\n",
      "\n",
      "See the caveats in the documentation: https://pandas.pydata.org/pandas-docs/stable/user_guide/indexing.html#returning-a-view-versus-a-copy\n",
      "  df1 = preprocessing_data(df1)\n",
      "<ipython-input-12-8b0f78658c8d>:4: SettingWithCopyWarning: \n",
      "A value is trying to be set on a copy of a slice from a DataFrame\n",
      "\n",
      "See the caveats in the documentation: https://pandas.pydata.org/pandas-docs/stable/user_guide/indexing.html#returning-a-view-versus-a-copy\n",
      "  data['Text'][i] = data['Text'][i].replace('\\n',' ')\n",
      "<ipython-input-12-8b0f78658c8d>:5: SettingWithCopyWarning: \n",
      "A value is trying to be set on a copy of a slice from a DataFrame\n",
      "\n",
      "See the caveats in the documentation: https://pandas.pydata.org/pandas-docs/stable/user_guide/indexing.html#returning-a-view-versus-a-copy\n",
      "  data['Text'][i] = ''.join(c for c in data['Text'][i] if c.isalpha() | (c == ' '))\n"
     ]
    },
    {
     "data": {
      "text/html": [
       "<div>\n",
       "<style scoped>\n",
       "    .dataframe tbody tr th:only-of-type {\n",
       "        vertical-align: middle;\n",
       "    }\n",
       "\n",
       "    .dataframe tbody tr th {\n",
       "        vertical-align: top;\n",
       "    }\n",
       "\n",
       "    .dataframe thead th {\n",
       "        text-align: right;\n",
       "    }\n",
       "</style>\n",
       "<table border=\"1\" class=\"dataframe\">\n",
       "  <thead>\n",
       "    <tr style=\"text-align: right;\">\n",
       "      <th></th>\n",
       "      <th>Text</th>\n",
       "      <th>Label</th>\n",
       "    </tr>\n",
       "  </thead>\n",
       "  <tbody>\n",
       "    <tr>\n",
       "      <th>0</th>\n",
       "      <td>i didnt expect much from this film but oh brot...</td>\n",
       "      <td>2</td>\n",
       "    </tr>\n",
       "    <tr>\n",
       "      <th>1</th>\n",
       "      <td>unashamedly ambitious scifi from kerry conran ...</td>\n",
       "      <td>2</td>\n",
       "    </tr>\n",
       "    <tr>\n",
       "      <th>2</th>\n",
       "      <td>this adaptation positively butchers a classic ...</td>\n",
       "      <td>2</td>\n",
       "    </tr>\n",
       "    <tr>\n",
       "      <th>3</th>\n",
       "      <td>i really did like this show once upon a time t...</td>\n",
       "      <td>2</td>\n",
       "    </tr>\n",
       "    <tr>\n",
       "      <th>4</th>\n",
       "      <td>this movie was horrible simply put it was so b...</td>\n",
       "      <td>2</td>\n",
       "    </tr>\n",
       "  </tbody>\n",
       "</table>\n",
       "</div>"
      ],
      "text/plain": [
       "                                                Text  Label\n",
       "0  i didnt expect much from this film but oh brot...      2\n",
       "1  unashamedly ambitious scifi from kerry conran ...      2\n",
       "2  this adaptation positively butchers a classic ...      2\n",
       "3  i really did like this show once upon a time t...      2\n",
       "4  this movie was horrible simply put it was so b...      2"
      ]
     },
     "execution_count": 13,
     "metadata": {},
     "output_type": "execute_result"
    }
   ],
   "source": [
    "df1 = preprocessing_data(df1)\n",
    "df1.head()"
   ]
  },
  {
   "cell_type": "code",
   "execution_count": 14,
   "metadata": {},
   "outputs": [
    {
     "name": "stderr",
     "output_type": "stream",
     "text": [
      "<ipython-input-12-8b0f78658c8d>:3: SettingWithCopyWarning: \n",
      "A value is trying to be set on a copy of a slice from a DataFrame\n",
      "\n",
      "See the caveats in the documentation: https://pandas.pydata.org/pandas-docs/stable/user_guide/indexing.html#returning-a-view-versus-a-copy\n",
      "  data['Text'][i] = data['Text'][i].lower()\n",
      "<ipython-input-12-8b0f78658c8d>:4: SettingWithCopyWarning: \n",
      "A value is trying to be set on a copy of a slice from a DataFrame\n",
      "\n",
      "See the caveats in the documentation: https://pandas.pydata.org/pandas-docs/stable/user_guide/indexing.html#returning-a-view-versus-a-copy\n",
      "  data['Text'][i] = data['Text'][i].replace('\\n',' ')\n",
      "<ipython-input-12-8b0f78658c8d>:5: SettingWithCopyWarning: \n",
      "A value is trying to be set on a copy of a slice from a DataFrame\n",
      "\n",
      "See the caveats in the documentation: https://pandas.pydata.org/pandas-docs/stable/user_guide/indexing.html#returning-a-view-versus-a-copy\n",
      "  data['Text'][i] = ''.join(c for c in data['Text'][i] if c.isalpha() | (c == ' '))\n"
     ]
    },
    {
     "data": {
      "text/html": [
       "<div>\n",
       "<style scoped>\n",
       "    .dataframe tbody tr th:only-of-type {\n",
       "        vertical-align: middle;\n",
       "    }\n",
       "\n",
       "    .dataframe tbody tr th {\n",
       "        vertical-align: top;\n",
       "    }\n",
       "\n",
       "    .dataframe thead th {\n",
       "        text-align: right;\n",
       "    }\n",
       "</style>\n",
       "<table border=\"1\" class=\"dataframe\">\n",
       "  <thead>\n",
       "    <tr style=\"text-align: right;\">\n",
       "      <th></th>\n",
       "      <th>Text</th>\n",
       "      <th>Label</th>\n",
       "    </tr>\n",
       "  </thead>\n",
       "  <tbody>\n",
       "    <tr>\n",
       "      <th>0</th>\n",
       "      <td>classes tous risques is one of the best gangst...</td>\n",
       "      <td>1</td>\n",
       "    </tr>\n",
       "    <tr>\n",
       "      <th>1</th>\n",
       "      <td>spunky journalist holly hunter produces invest...</td>\n",
       "      <td>1</td>\n",
       "    </tr>\n",
       "    <tr>\n",
       "      <th>2</th>\n",
       "      <td>i tend to get furious when hearing about lucio...</td>\n",
       "      <td>1</td>\n",
       "    </tr>\n",
       "    <tr>\n",
       "      <th>3</th>\n",
       "      <td>the planet is an astounding piece of film maki...</td>\n",
       "      <td>1</td>\n",
       "    </tr>\n",
       "    <tr>\n",
       "      <th>4</th>\n",
       "      <td>i recall so many things about seeing this movi...</td>\n",
       "      <td>1</td>\n",
       "    </tr>\n",
       "  </tbody>\n",
       "</table>\n",
       "</div>"
      ],
      "text/plain": [
       "                                                Text  Label\n",
       "0  classes tous risques is one of the best gangst...      1\n",
       "1  spunky journalist holly hunter produces invest...      1\n",
       "2  i tend to get furious when hearing about lucio...      1\n",
       "3  the planet is an astounding piece of film maki...      1\n",
       "4  i recall so many things about seeing this movi...      1"
      ]
     },
     "execution_count": 14,
     "metadata": {},
     "output_type": "execute_result"
    }
   ],
   "source": [
    "df_test1 = preprocessing_data(df_test1)\n",
    "df_test1.head()"
   ]
  },
  {
   "cell_type": "code",
   "execution_count": 26,
   "metadata": {},
   "outputs": [],
   "source": [
    "def split_data(data, training_ratio):\n",
    "    total = len(data)\n",
    "    training_data = []\n",
    "    evaluation_data = []\n",
    "\n",
    "    for indice in range(0, total):\n",
    "        if indice < total * training_ratio:\n",
    "            training_data.append([data['Text'][indice],data['Label'][indice]])\n",
    "        else:\n",
    "            evaluation_data.append([data['Text'][indice],data['Label'][indice]])\n",
    "\n",
    "    return training_data, evaluation_data"
   ]
  },
  {
   "cell_type": "code",
   "execution_count": 28,
   "metadata": {},
   "outputs": [],
   "source": [
    "# train_data, eval_data = split_data(df)\n",
    "train_data, no_matter = split_data(df1,1)\n",
    "eval_data, no_matter2 = split_data(df_test1,1)"
   ]
  },
  {
   "cell_type": "code",
   "execution_count": 30,
   "metadata": {},
   "outputs": [
    {
     "name": "stdout",
     "output_type": "stream",
     "text": [
      "25000\n",
      "25000\n"
     ]
    }
   ],
   "source": [
    "print(len(train_data))\n",
    "print(len(eval_data))"
   ]
  },
  {
   "cell_type": "code",
   "execution_count": 31,
   "metadata": {},
   "outputs": [],
   "source": [
    "def training_step(training_data, vectorizer):\n",
    "    training_text = []\n",
    "    training_result = []\n",
    "    for i in range(len(training_data)):\n",
    "        training_text.append(training_data[i][0])\n",
    "        training_result.append(training_data[i][1])\n",
    "    training_text = vectorizer.fit_transform(training_text) \n",
    "    \n",
    "#     print(\"Training text: \" + str(training_text))\n",
    "#     print(\"Training result: \" + str(training_result))\n",
    "#     for result in training_result: \n",
    "#         if result == \"nan\": \n",
    "#             print(\"Error there is a nan\")\n",
    "#             result = 0\n",
    "#         else: \n",
    "#             print(\"Fine\")\n",
    "            \n",
    "            \n",
    "    classifier = MultinomialNB().fit(training_text, training_result) #remove toarray for bernoulli/multi\n",
    "#     print(\"Classifier: \" + str(classifier))\n",
    "#     print(\"Classifier log prior: \" + str(classifier.class_log_prior_))\n",
    "#     print(\"Feature log prob: \" + str(classifier.feature_log_prob_))\n",
    "    classifier.get_params()\n",
    "    return classifier"
   ]
  },
  {
   "cell_type": "code",
   "execution_count": 32,
   "metadata": {},
   "outputs": [],
   "source": [
    "def analyze_text(classifier, vectorizer, text):\n",
    "#     print(\"Classifier prediction: \" + str(classifier.predict(vectorizer.transform([text]))))\n",
    "    return text, classifier.predict(vectorizer.transform([text]))"
   ]
  },
  {
   "cell_type": "code",
   "execution_count": 33,
   "metadata": {},
   "outputs": [],
   "source": [
    "def evaluate(evaluation_data):\n",
    "    evaluation_text = []\n",
    "    actual_result = []\n",
    "    for i in range(len(evaluation_data)):\n",
    "        evaluation_text.append(evaluation_data[i][0])\n",
    "        actual_result.append(int(evaluation_data[i][1]))\n",
    "\n",
    "    total = len(evaluation_text)\n",
    "    corrects = 0\n",
    "    for i in range(0, total):\n",
    "        result = classifier.predict(vectorizer.transform([evaluation_text[i]])) #remove toarray\n",
    "        text = evaluation_text[i]\n",
    "        corrects += 1 if result[0] == actual_result[i] else 0\n",
    "    print(\"Accuracy: \", corrects * 100 / total)\n",
    "    return \"Accuracy: \", corrects * 100 / total"
   ]
  },
  {
   "cell_type": "code",
   "execution_count": 34,
   "metadata": {},
   "outputs": [
    {
     "name": "stdout",
     "output_type": "stream",
     "text": [
      "Accuracy:  82.732\n",
      "Accuracy:  81.52\n",
      "Accuracy:  83.908\n",
      "Accuracy:  83.116\n"
     ]
    }
   ],
   "source": [
    "v = [CountVectorizer(binary = 'true'), CountVectorizer(), TfidfVectorizer(binary = 'true'), TfidfVectorizer()]\n",
    "for vectorizer in v: \n",
    "    classifier = training_step(train_data, vectorizer)\n",
    "    evaluate(eval_data)"
   ]
  },
  {
   "cell_type": "code",
   "execution_count": 35,
   "metadata": {},
   "outputs": [],
   "source": [
    "def create_confusion_matrix(evaluation_data):\n",
    "    evaluation_text     = [evaluation_data[0] for evaluation_data in evaluation_data]\n",
    "    actual_result       = [int(evaluation_data[1]) for evaluation_data in evaluation_data]\n",
    "    prediction_result   = []\n",
    "#     print(actual_result)\n",
    "    for text in evaluation_text:\n",
    "        analysis_result = analyze_text(classifier, vectorizer, text)\n",
    "        prediction_result.append(int(analysis_result[1][0]))\n",
    "#     print(prediction_result)\n",
    "#     print(evaluation_text[9])\n",
    "    matrix = confusion_matrix(actual_result, prediction_result)\n",
    "    return matrix"
   ]
  },
  {
   "cell_type": "code",
   "execution_count": 36,
   "metadata": {},
   "outputs": [
    {
     "data": {
      "text/html": [
       "<div>\n",
       "<style scoped>\n",
       "    .dataframe tbody tr th:only-of-type {\n",
       "        vertical-align: middle;\n",
       "    }\n",
       "\n",
       "    .dataframe tbody tr th {\n",
       "        vertical-align: top;\n",
       "    }\n",
       "\n",
       "    .dataframe thead th {\n",
       "        text-align: right;\n",
       "    }\n",
       "</style>\n",
       "<table border=\"1\" class=\"dataframe\">\n",
       "  <thead>\n",
       "    <tr style=\"text-align: right;\">\n",
       "      <th></th>\n",
       "      <th>Negatives</th>\n",
       "      <th>Positives</th>\n",
       "    </tr>\n",
       "  </thead>\n",
       "  <tbody>\n",
       "    <tr>\n",
       "      <th>Negatives</th>\n",
       "      <td>9636</td>\n",
       "      <td>2864</td>\n",
       "    </tr>\n",
       "    <tr>\n",
       "      <th>Positives</th>\n",
       "      <td>1357</td>\n",
       "      <td>11143</td>\n",
       "    </tr>\n",
       "  </tbody>\n",
       "</table>\n",
       "</div>"
      ],
      "text/plain": [
       "           Negatives  Positives\n",
       "Negatives       9636       2864\n",
       "Positives       1357      11143"
      ]
     },
     "execution_count": 36,
     "metadata": {},
     "output_type": "execute_result"
    }
   ],
   "source": [
    "result = create_confusion_matrix(eval_data)\n",
    "pd.DataFrame(\n",
    "    result, \n",
    "    columns=[\"Negatives\", \"Positives\"],\n",
    "    index=[\"Negatives\", \"Positives\"])"
   ]
  },
  {
   "cell_type": "code",
   "execution_count": null,
   "metadata": {},
   "outputs": [],
   "source": [
    "def print_result(result):\n",
    "    text, analysis_result = result\n",
    "    print(analysis_result)\n",
    "    print_text = \"Positive\" if analysis_result[0] == 1 else \"Negative\"\n",
    "    print(text, \":\", print_text)"
   ]
  },
  {
   "cell_type": "code",
   "execution_count": null,
   "metadata": {},
   "outputs": [],
   "source": [
    "print_result(analyze_text(classifier, vectorizer, \"i cant wait\"))"
   ]
  },
  {
   "cell_type": "code",
   "execution_count": null,
   "metadata": {},
   "outputs": [],
   "source": []
  }
 ],
 "metadata": {
  "kernelspec": {
   "display_name": "Python 3",
   "language": "python",
   "name": "python3"
  },
  "language_info": {
   "codemirror_mode": {
    "name": "ipython",
    "version": 3
   },
   "file_extension": ".py",
   "mimetype": "text/x-python",
   "name": "python",
   "nbconvert_exporter": "python",
   "pygments_lexer": "ipython3",
   "version": "3.8.3"
  }
 },
 "nbformat": 4,
 "nbformat_minor": 4
}
